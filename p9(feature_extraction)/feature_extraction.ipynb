{
 "cells": [
  {
   "cell_type": "code",
   "execution_count": null,
   "id": "79aa53c7",
   "metadata": {
    "vscode": {
     "languageId": "plaintext"
    }
   },
   "outputs": [],
   "source": [
    "function load_data(path):\n",
    "    df = read_csv(path)\n",
    "    df.timestamp = parse_datetime(df.timestamp)\n",
    "    sort df by [uid, timestamp]\n",
    "    return df\n"
   ]
  },
  {
   "cell_type": "code",
   "execution_count": null,
   "id": "7b1b4292",
   "metadata": {
    "vscode": {
     "languageId": "plaintext"
    }
   },
   "outputs": [],
   "source": [
    "function extract_time_features(df):\n",
    "    df.sec_since_midnight = hour(df.timestamp) * 3600 + minute(df.timestamp) * 60\n",
    "    df.day_of_week = weekday(df.timestamp)   // 0 = Monday\n",
    "    df.is_weekday = (df.day_of_week < 5)\n",
    "    df.is_holiday = check_if_holiday(df.timestamp)  // optional\n",
    "    df.am_pm = (hour(df.timestamp) >= 12)\n",
    "    return df\n"
   ]
  },
  {
   "cell_type": "code",
   "execution_count": null,
   "id": "2376e8ea",
   "metadata": {
    "vscode": {
     "languageId": "plaintext"
    }
   },
   "outputs": [],
   "source": [
    "function extract_all_features(df):\n",
    "    df = extract_time_features(df)\n",
    "    df = extract_mobility_features(df)\n",
    "    save df[uid, timestamp, meshcode, all_features] to \"features.csv\"\n",
    "    return df\n"
   ]
  },
  {
   "cell_type": "code",
   "execution_count": null,
   "id": "220d1de6",
   "metadata": {
    "vscode": {
     "languageId": "plaintext"
    }
   },
   "outputs": [],
   "source": [
    "function compute_day(df):\n",
    "    for each uid:\n",
    "        day_1_time = min(timestamp for that uid)\n",
    "        df.day = days_between(df.timestamp, day_1_time) + 1\n",
    "    return df\n"
   ]
  },
  {
   "cell_type": "code",
   "execution_count": null,
   "id": "04e981fe",
   "metadata": {
    "vscode": {
     "languageId": "plaintext"
    }
   },
   "outputs": [],
   "source": [
    "function split_train_test(df, train_days, test_days, test_frac):\n",
    "    df = compute_day(df)\n",
    "    train_data = df[day <= train_days]\n",
    "\n",
    "    test_data_pool = df[day > train_days and day <= train_days + test_days]\n",
    "\n",
    "    sampled_train = sample_fraction(test_data_pool, fraction=test_frac)\n",
    "    remaining_test = test_data_pool - sampled_train\n",
    "\n",
    "    train_df = concatenate(train_data, sampled_train)\n",
    "    return train_df, remaining_test\n"
   ]
  }
 ],
 "metadata": {
  "language_info": {
   "name": "python"
  }
 },
 "nbformat": 4,
 "nbformat_minor": 5
}
